{
 "cells": [
  {
   "cell_type": "code",
   "execution_count": 1,
   "id": "84d28877-a2c0-4439-9b7f-64f03f27c41b",
   "metadata": {},
   "outputs": [],
   "source": [
    "import pandas\n",
    "from matplotlib import pyplot\n",
    "from dataFrameStyle import getBackgroundColor"
   ]
  },
  {
   "cell_type": "code",
   "execution_count": 2,
   "id": "ad38cbaf-647c-47fe-ab66-e3ecabc6b324",
   "metadata": {},
   "outputs": [],
   "source": [
    "players = pandas.read_csv(\"players.csv\")"
   ]
  },
  {
   "cell_type": "code",
   "execution_count": 3,
   "id": "401b3d1d-385c-4537-a448-8286f85f5789",
   "metadata": {},
   "outputs": [],
   "source": [
    "colors = [\"#FF9A9A\", \"#9AFFA0\"]\n",
    "teams = [\"Gen.G Esports\", \"Team Heretics\"]"
   ]
  },
  {
   "cell_type": "code",
   "execution_count": 4,
   "id": "fdf435cf-3b42-45fd-8dd4-481dcee48ea5",
   "metadata": {},
   "outputs": [
    {
     "data": {
      "text/html": [
       "<style type=\"text/css\">\n",
       "#T_262aa_row0_col0, #T_262aa_row0_col1, #T_262aa_row0_col2, #T_262aa_row3_col0, #T_262aa_row3_col1, #T_262aa_row3_col2, #T_262aa_row4_col0, #T_262aa_row4_col1, #T_262aa_row4_col2, #T_262aa_row5_col0, #T_262aa_row5_col1, #T_262aa_row5_col2, #T_262aa_row9_col0, #T_262aa_row9_col1, #T_262aa_row9_col2 {\n",
       "  background-color: #9AFFA0;\n",
       "}\n",
       "#T_262aa_row1_col0, #T_262aa_row1_col1, #T_262aa_row1_col2, #T_262aa_row2_col0, #T_262aa_row2_col1, #T_262aa_row2_col2, #T_262aa_row6_col0, #T_262aa_row6_col1, #T_262aa_row6_col2, #T_262aa_row7_col0, #T_262aa_row7_col1, #T_262aa_row7_col2, #T_262aa_row8_col0, #T_262aa_row8_col1, #T_262aa_row8_col2 {\n",
       "  background-color: #FF9A9A;\n",
       "}\n",
       "</style>\n",
       "<table id=\"T_262aa\">\n",
       "  <thead>\n",
       "    <tr>\n",
       "      <th class=\"blank level0\" >&nbsp;</th>\n",
       "      <th id=\"T_262aa_level0_col0\" class=\"col_heading level0 col0\" >player</th>\n",
       "      <th id=\"T_262aa_level0_col1\" class=\"col_heading level0 col1\" >team</th>\n",
       "      <th id=\"T_262aa_level0_col2\" class=\"col_heading level0 col2\" >acs</th>\n",
       "    </tr>\n",
       "  </thead>\n",
       "  <tbody>\n",
       "    <tr>\n",
       "      <th id=\"T_262aa_level0_row0\" class=\"row_heading level0 row0\" >0</th>\n",
       "      <td id=\"T_262aa_row0_col0\" class=\"data row0 col0\" >Wo0t</td>\n",
       "      <td id=\"T_262aa_row0_col1\" class=\"data row0 col1\" >Team Heretics</td>\n",
       "      <td id=\"T_262aa_row0_col2\" class=\"data row0 col2\" >267</td>\n",
       "    </tr>\n",
       "    <tr>\n",
       "      <th id=\"T_262aa_level0_row1\" class=\"row_heading level0 row1\" >1</th>\n",
       "      <td id=\"T_262aa_row1_col0\" class=\"data row1 col0\" >t3xture</td>\n",
       "      <td id=\"T_262aa_row1_col1\" class=\"data row1 col1\" >Gen.G Esports</td>\n",
       "      <td id=\"T_262aa_row1_col2\" class=\"data row1 col2\" >235</td>\n",
       "    </tr>\n",
       "    <tr>\n",
       "      <th id=\"T_262aa_level0_row2\" class=\"row_heading level0 row2\" >2</th>\n",
       "      <td id=\"T_262aa_row2_col0\" class=\"data row2 col0\" >Meteor</td>\n",
       "      <td id=\"T_262aa_row2_col1\" class=\"data row2 col1\" >Gen.G Esports</td>\n",
       "      <td id=\"T_262aa_row2_col2\" class=\"data row2 col2\" >223</td>\n",
       "    </tr>\n",
       "    <tr>\n",
       "      <th id=\"T_262aa_level0_row3\" class=\"row_heading level0 row3\" >3</th>\n",
       "      <td id=\"T_262aa_row3_col0\" class=\"data row3 col0\" >RieNs</td>\n",
       "      <td id=\"T_262aa_row3_col1\" class=\"data row3 col1\" >Team Heretics</td>\n",
       "      <td id=\"T_262aa_row3_col2\" class=\"data row3 col2\" >211</td>\n",
       "    </tr>\n",
       "    <tr>\n",
       "      <th id=\"T_262aa_level0_row4\" class=\"row_heading level0 row4\" >4</th>\n",
       "      <td id=\"T_262aa_row4_col0\" class=\"data row4 col0\" >paTiTek</td>\n",
       "      <td id=\"T_262aa_row4_col1\" class=\"data row4 col1\" >Team Heretics</td>\n",
       "      <td id=\"T_262aa_row4_col2\" class=\"data row4 col2\" >202</td>\n",
       "    </tr>\n",
       "    <tr>\n",
       "      <th id=\"T_262aa_level0_row5\" class=\"row_heading level0 row5\" >5</th>\n",
       "      <td id=\"T_262aa_row5_col0\" class=\"data row5 col0\" >benjyfishy</td>\n",
       "      <td id=\"T_262aa_row5_col1\" class=\"data row5 col1\" >Team Heretics</td>\n",
       "      <td id=\"T_262aa_row5_col2\" class=\"data row5 col2\" >202</td>\n",
       "    </tr>\n",
       "    <tr>\n",
       "      <th id=\"T_262aa_level0_row6\" class=\"row_heading level0 row6\" >6</th>\n",
       "      <td id=\"T_262aa_row6_col0\" class=\"data row6 col0\" >Karon</td>\n",
       "      <td id=\"T_262aa_row6_col1\" class=\"data row6 col1\" >Gen.G Esports</td>\n",
       "      <td id=\"T_262aa_row6_col2\" class=\"data row6 col2\" >197</td>\n",
       "    </tr>\n",
       "    <tr>\n",
       "      <th id=\"T_262aa_level0_row7\" class=\"row_heading level0 row7\" >7</th>\n",
       "      <td id=\"T_262aa_row7_col0\" class=\"data row7 col0\" >Lakia</td>\n",
       "      <td id=\"T_262aa_row7_col1\" class=\"data row7 col1\" >Gen.G Esports</td>\n",
       "      <td id=\"T_262aa_row7_col2\" class=\"data row7 col2\" >187</td>\n",
       "    </tr>\n",
       "    <tr>\n",
       "      <th id=\"T_262aa_level0_row8\" class=\"row_heading level0 row8\" >8</th>\n",
       "      <td id=\"T_262aa_row8_col0\" class=\"data row8 col0\" >Munchkin</td>\n",
       "      <td id=\"T_262aa_row8_col1\" class=\"data row8 col1\" >Gen.G Esports</td>\n",
       "      <td id=\"T_262aa_row8_col2\" class=\"data row8 col2\" >181</td>\n",
       "    </tr>\n",
       "    <tr>\n",
       "      <th id=\"T_262aa_level0_row9\" class=\"row_heading level0 row9\" >9</th>\n",
       "      <td id=\"T_262aa_row9_col0\" class=\"data row9 col0\" >Boo</td>\n",
       "      <td id=\"T_262aa_row9_col1\" class=\"data row9 col1\" >Team Heretics</td>\n",
       "      <td id=\"T_262aa_row9_col2\" class=\"data row9 col2\" >179</td>\n",
       "    </tr>\n",
       "  </tbody>\n",
       "</table>\n"
      ],
      "text/plain": [
       "<pandas.io.formats.style.Styler at 0x70a1b151e510>"
      ]
     },
     "execution_count": 4,
     "metadata": {},
     "output_type": "execute_result"
    }
   ],
   "source": [
    "team1 = players.loc[players[\"team\"] == teams[0], :]\n",
    "team2 = players.loc[players[\"team\"] == teams[1], :]\n",
    "scoreboard = pandas.concat([team1, team2]).sort_values(\"acs\", ascending=False).reset_index(drop=True)\n",
    "scoreboard.style.apply(getBackgroundColor, colors=colors, teams=teams, axis=1)"
   ]
  },
  {
   "cell_type": "code",
   "execution_count": 5,
   "id": "2aaa31af-a182-42a9-80fb-f81d4071e02f",
   "metadata": {},
   "outputs": [],
   "source": [
    "acs = [\n",
    "    team1.groupby(\"team\")[\"acs\"].sum().to_list()[0],\n",
    "    team2.groupby(\"team\")[\"acs\"].sum().to_list()[0]\n",
    "]"
   ]
  },
  {
   "cell_type": "code",
   "execution_count": 6,
   "id": "2c587993-4776-4e34-95dc-81b45d4fd41b",
   "metadata": {},
   "outputs": [
    {
     "data": {
      "image/png": "[encoded data removed]",
      "text/plain": [
       "<Figure size 640x480 with 1 Axes>"
      ]
     },
     "metadata": {},
     "output_type": "display_data"
    }
   ],
   "source": [
    "pyplot.pie(labels=teams, x=acs, autopct=\"%.2f%%\", colors=colors)\n",
    "pyplot.show()"
   ]
  },
  {
   "cell_type": "code",
   "execution_count": null,
   "id": "0d589ac0-5b1a-44df-9a41-3c0429b992ca",
   "metadata": {},
   "outputs": [],
   "source": []
  }
 ],
 "metadata": {
  "kernelspec": {
   "display_name": "Python 3 (ipykernel)",
   "language": "python",
   "name": "python3"
  },
  "language_info": {
   "codemirror_mode": {
    "name": "ipython",
    "version": 3
   },
   "file_extension": ".py",
   "mimetype": "text/x-python",
   "name": "python",
   "nbconvert_exporter": "python",
   "pygments_lexer": "ipython3",
   "version": "3.11.7"
  }
 },
 "nbformat": 4,
 "nbformat_minor": 5
}
